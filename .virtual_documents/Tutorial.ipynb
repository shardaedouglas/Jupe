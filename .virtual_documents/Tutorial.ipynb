# Import Dataset and set axis


import shap
X, y = shap.datasets.adult()
X_display, y_display = shap.datasets.adult(display=True)
feature_names = list(X.columns)
feature_names


display(X.describe())
hist = X.hist(bins=30, sharey=True, figsize=(20, 10))


from sklearn.model_selection import train_test_split
X_train, X_test, y_train, y_test = train_test_split(X, y, test_size=0.2, random_state=1)
X_train_display = X_display.loc[X_train.index]


X_train, X_val, y_train, y_val = train_test_split(X_train, y_train, test_size=0.25, random_state=1)
X_train_display = X_display.loc[X_train.index]
X_val_display = X_display.loc[X_val.index]


X_train, X_val, y_train, y_val = train_test_split(X_train, y_train, test_size=0.25, random_state=1)
X_train_display = X_display.loc[X_train.index]
X_val_display = X_display.loc[X_val.index]


import pandas as pd
train = pd.concat([pd.Series(y_train, index=X_train.index, name='Income>50k', dtype=int), X_train], axis=1)
validation = pd.concat([pd.Series(y_val, index=X_val.index, name='Income>50k', dtype=int), X_val], axis=1)
test = pd.concat([pd.Series(y_test, index=X_test.index, name='Income>50k', dtype=int), X_test], axis=1)


train


validation


test


train.to_csv('train.csv', index=False, header=False)
validation.to_csv('validation.csv', index=False, header=False)


import shap
from matplotlib import pyplot as plt
X, y = shap.datasets.adult()
X_display, y_display = shap.datasets.adult(display=True)

plt.hist(X, bins=20)



